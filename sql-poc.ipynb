{
  "cells": [
    {
      "cell_type": "markdown",
      "source": [
        "# Modal Lab Concept: SQL"
      ],
      "metadata": {}
    },
    {
      "cell_type": "markdown",
      "source": [
        "## SQL\n",
        "Here's where we write some things about why SQL is awesome and useful to your career in data science."
      ],
      "metadata": {}
    },
    {
      "cell_type": "markdown",
      "source": [
        "### Setup"
      ],
      "metadata": {}
    },
    {
      "cell_type": "code",
      "source": [
        "## Load our SQL extension\n",
        "%load_ext sql"
      ],
      "outputs": [],
      "execution_count": 1,
      "metadata": {
        "collapsed": false,
        "outputHidden": false,
        "inputHidden": false
      }
    },
    {
      "cell_type": "code",
      "source": [
        "## Connect to SQLite database\n",
        "%sql sqlite://"
      ],
      "outputs": [],
      "execution_count": 7,
      "metadata": {
        "collapsed": false,
        "outputHidden": false,
        "inputHidden": false
      }
    },
    {
      "cell_type": "code",
      "source": [
        "%%sql\n",
        "DROP TABLE IF EXISTS sales;\n",
        "CREATE TABLE IF NOT EXISTS sales\n",
        "(\n",
        "    key       varchar(6),\n",
        "    ts        timestamp,\n",
        "    product   integer,\n",
        "    completed boolean,\n",
        "    price     float\n",
        ");\n",
        "INSERT INTO sales\n",
        "VALUES ('sale_1', '2019-11-08 00:00', 0, TRUE, 1.1),\n",
        "       ('sale_2', '2019-11-08 01:00', 0, FALSE, 1.2),\n",
        "       ('sale_3', '2019-11-08 01:00', 0, TRUE, 1.3),\n",
        "       ('sale_4', '2019-11-08 01:00', 1, FALSE, 1.4),\n",
        "       ('sale_5', '2019-11-08 02:00', 1, TRUE, 1.5),\n",
        "       ('sale_6', '2019-11-08 02:00', 1, TRUE, 1.5);"
      ],
      "outputs": [
        {
          "output_type": "stream",
          "name": "stdout",
          "text": [
            " * sqlite://\n",
            "Done.\n",
            "Done.\n",
            "6 rows affected.\n"
          ]
        },
        {
          "output_type": "execute_result",
          "execution_count": 20,
          "data": {
            "text/plain": [
              "[]"
            ]
          },
          "metadata": {}
        }
      ],
      "execution_count": 20,
      "metadata": {
        "collapsed": false,
        "outputHidden": false,
        "inputHidden": false
      }
    },
    {
      "cell_type": "code",
      "source": [
        "%%sql\n",
        "\n",
        "select * from sales"
      ],
      "outputs": [
        {
          "output_type": "stream",
          "name": "stdout",
          "text": [
            " * sqlite://\n",
            "Done.\n"
          ]
        },
        {
          "output_type": "execute_result",
          "execution_count": 24,
          "data": {
            "text/plain": [
              "[('sale_1', '2019-11-08 00:00', 0, 1, 1.1),\n",
              " ('sale_2', '2019-11-08 01:00', 0, 0, 1.2),\n",
              " ('sale_3', '2019-11-08 01:00', 0, 1, 1.3),\n",
              " ('sale_4', '2019-11-08 01:00', 1, 0, 1.4),\n",
              " ('sale_5', '2019-11-08 02:00', 1, 1, 1.5),\n",
              " ('sale_6', '2019-11-08 02:00', 1, 1, 1.5)]"
            ],
            "text/html": [
              "<table>\n",
              "    <tr>\n",
              "        <th>key</th>\n",
              "        <th>ts</th>\n",
              "        <th>product</th>\n",
              "        <th>completed</th>\n",
              "        <th>price</th>\n",
              "    </tr>\n",
              "    <tr>\n",
              "        <td>sale_1</td>\n",
              "        <td>2019-11-08 00:00</td>\n",
              "        <td>0</td>\n",
              "        <td>1</td>\n",
              "        <td>1.1</td>\n",
              "    </tr>\n",
              "    <tr>\n",
              "        <td>sale_2</td>\n",
              "        <td>2019-11-08 01:00</td>\n",
              "        <td>0</td>\n",
              "        <td>0</td>\n",
              "        <td>1.2</td>\n",
              "    </tr>\n",
              "    <tr>\n",
              "        <td>sale_3</td>\n",
              "        <td>2019-11-08 01:00</td>\n",
              "        <td>0</td>\n",
              "        <td>1</td>\n",
              "        <td>1.3</td>\n",
              "    </tr>\n",
              "    <tr>\n",
              "        <td>sale_4</td>\n",
              "        <td>2019-11-08 01:00</td>\n",
              "        <td>1</td>\n",
              "        <td>0</td>\n",
              "        <td>1.4</td>\n",
              "    </tr>\n",
              "    <tr>\n",
              "        <td>sale_5</td>\n",
              "        <td>2019-11-08 02:00</td>\n",
              "        <td>1</td>\n",
              "        <td>1</td>\n",
              "        <td>1.5</td>\n",
              "    </tr>\n",
              "    <tr>\n",
              "        <td>sale_6</td>\n",
              "        <td>2019-11-08 02:00</td>\n",
              "        <td>1</td>\n",
              "        <td>1</td>\n",
              "        <td>1.5</td>\n",
              "    </tr>\n",
              "</table>"
            ]
          },
          "metadata": {}
        }
      ],
      "execution_count": 24,
      "metadata": {
        "collapsed": false,
        "outputHidden": false,
        "inputHidden": false
      }
    },
    {
      "cell_type": "code",
      "source": [
        "## Now play with it in python \n",
        "import matplotlib\n",
        "data = _.DataFrame()\n",
        "data.plot()"
      ],
      "outputs": [
        {
          "output_type": "execute_result",
          "execution_count": 25,
          "data": {
            "text/plain": [
              "<matplotlib.axes._subplots.AxesSubplot at 0x7ffb93792210>"
            ]
          },
          "metadata": {}
        },
        {
          "output_type": "display_data",
          "data": {
            "text/plain": [
              "<Figure size 432x288 with 1 Axes>"
            ],
            "image/png": "[encoded data removed]"
          },
          "metadata": {
            "needs_background": "light"
          }
        }
      ],
      "execution_count": 25,
      "metadata": {
        "collapsed": false,
        "outputHidden": false,
        "inputHidden": false
      }
    },
    {
      "cell_type": "code",
      "source": [],
      "outputs": [],
      "execution_count": null,
      "metadata": {
        "collapsed": false,
        "outputHidden": false,
        "inputHidden": false
      }
    }
  ],
  "metadata": {
    "kernelspec": {
      "display_name": "Python 3",
      "language": "python",
      "name": "python3"
    },
    "nteract": {
      "version": "nteract-on-jupyter@2.1.3"
    },
    "language_info": {
      "name": "python",
      "version": "3.7.10",
      "mimetype": "text/x-python",
      "codemirror_mode": {
        "name": "ipython",
        "version": 3
      },
      "pygments_lexer": "ipython3",
      "nbconvert_exporter": "python",
      "file_extension": ".py"
    }
  },
  "nbformat": 4,
  "nbformat_minor": 2
}